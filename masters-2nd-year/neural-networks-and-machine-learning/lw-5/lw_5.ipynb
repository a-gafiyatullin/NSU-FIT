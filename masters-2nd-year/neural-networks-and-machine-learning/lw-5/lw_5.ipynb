{
 "cells": [
  {
   "cell_type": "code",
   "execution_count": 1,
   "metadata": {},
   "outputs": [],
   "source": [
    "import numpy as np\n",
    "from keras.datasets import mnist"
   ]
  },
  {
   "cell_type": "code",
   "execution_count": 2,
   "metadata": {},
   "outputs": [],
   "source": [
    "(x_train, y_train), (x_test, y_test) = mnist.load_data()"
   ]
  },
  {
   "cell_type": "code",
   "execution_count": 3,
   "metadata": {},
   "outputs": [],
   "source": [
    "x_train = x_train.reshape(60000, 28 * 28)\n",
    "x_test = x_test.reshape(x_test.shape[0], 28 * 28)"
   ]
  },
  {
   "cell_type": "code",
   "execution_count": 4,
   "metadata": {},
   "outputs": [],
   "source": [
    "x_train = np.append(x_train, np.ones([len(x_train),1]),1)\n",
    "x_test = np.append(x_test, np.ones([len(x_test),1]),1)"
   ]
  },
  {
   "cell_type": "code",
   "execution_count": 5,
   "metadata": {},
   "outputs": [],
   "source": [
    "w0 = np.zeros((10,785))\n",
    "wx = np.zeros((10,1))"
   ]
  },
  {
   "cell_type": "code",
   "execution_count": 6,
   "metadata": {},
   "outputs": [],
   "source": [
    "def train():\n",
    "  global train_accuracy\n",
    "  train_accuracy = 0\n",
    "  for i in range(len(x_train)):\n",
    "    for j in range(len(w0)):\n",
    "      wx[j] = np.dot(x_train[i], w0[j])\n",
    "    y_pred = np.argmax(wx)\n",
    "\n",
    "    if y_pred == y_train[i]:\n",
    "      train_accuracy += 1\n",
    "    else:\n",
    "      y_actual = int(y_train[i]) \n",
    "      w0[y_pred] = w0[y_pred] - x_train[i]\n",
    "      w0[y_actual] = w0[y_actual] + x_train[i]"
   ]
  },
  {
   "cell_type": "code",
   "execution_count": 7,
   "metadata": {},
   "outputs": [],
   "source": [
    "def test():\n",
    "  global test_accuracy\n",
    "  test_accuracy = 0\n",
    "  for i in range(len(x_test)):\n",
    "    for j in range(len(w0)):\n",
    "      wx[j] = np.dot(x_test[i],w0[j])\n",
    "    y_pred1 = np.argmax(wx)\n",
    "\n",
    "    if y_pred1 == y_test[i]:\n",
    "      test_accuracy += 1"
   ]
  },
  {
   "cell_type": "code",
   "execution_count": 8,
   "metadata": {},
   "outputs": [],
   "source": [
    "def get_accuracy():\n",
    "    print(\"Training Accuracy:\",train_accuracy/(len(x_train)))\n",
    "    print(\"Testing Accuracy:\",test_accuracy/(len(x_test)))"
   ]
  },
  {
   "cell_type": "code",
   "execution_count": 9,
   "metadata": {},
   "outputs": [
    {
     "name": "stdout",
     "output_type": "stream",
     "text": [
      "Training Accuracy: 0.89505\n",
      "Testing Accuracy: 0.8635\n"
     ]
    }
   ],
   "source": [
    "for times in range(0,64):\n",
    "    train()\n",
    "test()\n",
    "get_accuracy() #128 interations"
   ]
  }
 ],
 "metadata": {
  "kernelspec": {
   "display_name": "Python 3",
   "language": "python",
   "name": "python3"
  },
  "language_info": {
   "codemirror_mode": {
    "name": "ipython",
    "version": 3
   },
   "file_extension": ".py",
   "mimetype": "text/x-python",
   "name": "python",
   "nbconvert_exporter": "python",
   "pygments_lexer": "ipython3",
   "version": "3.9.13"
  },
  "vscode": {
   "interpreter": {
    "hash": "97e5078213819e0972490c34bb51c0691090174e06a5f50748383c443c04f591"
   }
  }
 },
 "nbformat": 4,
 "nbformat_minor": 2
}
