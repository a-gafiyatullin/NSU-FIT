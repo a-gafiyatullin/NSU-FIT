{
  "cells": [
    {
      "cell_type": "code",
      "execution_count": null,
      "metadata": {
        "id": "khVg5UqOzWIL"
      },
      "outputs": [],
      "source": [
        "import numpy as np\n",
        "from operator import itemgetter"
      ]
    },
    {
      "cell_type": "markdown",
      "metadata": {
        "id": "QL1-kDSWX-aF"
      },
      "source": [
        "Здесь различные функции растояния между точками"
      ]
    },
    {
      "cell_type": "code",
      "execution_count": null,
      "metadata": {
        "id": "5xrRdB6mzjmQ"
      },
      "outputs": [],
      "source": [
        "def euc_dist(x1, x2):\n",
        "  return np.sqrt(np.sum((x1-x2)**2))"
      ]
    },
    {
      "cell_type": "code",
      "execution_count": null,
      "metadata": {
        "id": "e4FYLjjJ6zB5"
      },
      "outputs": [],
      "source": [
        "def abs_dist(x1, x2):\n",
        "  return np.sum((np.abs(x1-x2)))"
      ]
    },
    {
      "cell_type": "markdown",
      "metadata": {
        "id": "lv996KCyY6sr"
      },
      "source": [
        "Класс, релизующий KNN. Для каждого вектора в test-выборке считаем расстояние до всех объектов в train-выборке.\n",
        "Выбираем K самых популряных и считаем вектор вероятностей принадлежности обхекта к кажлому из классов."
      ]
    },
    {
      "cell_type": "code",
      "execution_count": null,
      "metadata": {
        "id": "6CN9r-orztpf"
      },
      "outputs": [],
      "source": [
        "class KNN:\n",
        "  def __init__(self, K=3):\n",
        "    self.K = K\n",
        "  \n",
        "  def fit(self, x_train, y_train):\n",
        "    self.X_train = x_train\n",
        "    self.Y_train = y_train\n",
        "\n",
        "  def predict(self, X_test, distf):\n",
        "    predictions = [] \n",
        "    for i in range(len(X_test)):\n",
        "      dist = np.array([distf(X_test[i], x_t) for x_t in self.X_train])\n",
        "      dist_sorted = dist.argsort()[:self.K]\n",
        "      neigh_count = [0] * 10\n",
        "      \n",
        "      for idx in dist_sorted:\n",
        "        neigh_count[self.Y_train[idx]] += 1\n",
        "      \n",
        "      neigh_probs = [0] * 10\n",
        "      for i in range(0, 10):\n",
        "        neigh_probs[i] = neigh_count[i] / self.K\n",
        "\n",
        "      predictions.append(neigh_probs)\n",
        "    return predictions"
      ]
    },
    {
      "cell_type": "markdown",
      "metadata": {
        "id": "-0U3RKmDY4lv"
      },
      "source": [
        "Получаем данные."
      ]
    },
    {
      "cell_type": "code",
      "execution_count": null,
      "metadata": {
        "colab": {
          "base_uri": "https://localhost:8080/"
        },
        "id": "OVqgSA-P6_8W",
        "outputId": "16269127-fed1-4bb8-e463-7227374b950b"
      },
      "outputs": [],
      "source": [
        "from keras.datasets import mnist\n",
        "(X_train, y_train), (X_test, y_test) = mnist.load_data()"
      ]
    },
    {
      "cell_type": "markdown",
      "metadata": {
        "id": "mm3VV-FdY3eA"
      },
      "source": [
        "Отображаем данные."
      ]
    },
    {
      "cell_type": "code",
      "execution_count": null,
      "metadata": {
        "colab": {
          "base_uri": "https://localhost:8080/",
          "height": 268
        },
        "id": "d8IEjsaw7XTl",
        "outputId": "f3bb8bf7-ed78-451b-8d04-5ff44821fd3b"
      },
      "outputs": [],
      "source": [
        "from matplotlib import pyplot\n",
        "for i in range(9):  \n",
        "  pyplot.subplot(330 + 1 + i)\n",
        "  pyplot.imshow(X_train[i], cmap=pyplot.get_cmap('gray'))\n",
        "pyplot.show()"
      ]
    },
    {
      "cell_type": "markdown",
      "metadata": {
        "id": "G3A661kDY1KR"
      },
      "source": [
        "Делаем данные черно-белыми."
      ]
    },
    {
      "cell_type": "code",
      "execution_count": null,
      "metadata": {
        "id": "OFHawWks6zB7"
      },
      "outputs": [],
      "source": [
        "def to_bw(image):\n",
        "  for i in range(0, image.shape[0]):\n",
        "    for j in range(0, image.shape[1]):\n",
        "      if image[i][j] != 0:\n",
        "        image[i][j] = 1"
      ]
    },
    {
      "cell_type": "code",
      "execution_count": null,
      "metadata": {
        "id": "HSh6t7CV6zB8"
      },
      "outputs": [],
      "source": [
        "(X_train_bw, y_train_bw), (X_test_bw, y_test_bw) = mnist.load_data()\n",
        "\n",
        "for i in range(0, X_train_bw.shape[0]):\n",
        "  to_bw(X_train_bw[i])\n",
        "\n",
        "for i in range(0, X_test_bw.shape[0]):\n",
        "  to_bw(X_test_bw[i])"
      ]
    },
    {
      "cell_type": "markdown",
      "metadata": {
        "id": "VwKNkA1BYzuT"
      },
      "source": [
        "Отображаем черно-белые данные."
      ]
    },
    {
      "cell_type": "code",
      "execution_count": null,
      "metadata": {
        "colab": {
          "base_uri": "https://localhost:8080/",
          "height": 268
        },
        "id": "20CTiRXc6zB9",
        "outputId": "8396e24d-f72e-4307-a490-01c052f64343"
      },
      "outputs": [],
      "source": [
        "from matplotlib import pyplot\n",
        "for i in range(9):  \n",
        "  pyplot.subplot(330 + 1 + i)\n",
        "  pyplot.imshow(X_train_bw[i], cmap=pyplot.get_cmap('gray'))\n",
        "pyplot.show()"
      ]
    },
    {
      "cell_type": "code",
      "execution_count": null,
      "metadata": {
        "colab": {
          "base_uri": "https://localhost:8080/"
        },
        "id": "B-OugUFb6zB9",
        "outputId": "e91a1233-9f3c-4d8e-e0a6-523a600c247f"
      },
      "outputs": [],
      "source": [
        "# to one dim arrays\n",
        "\n",
        "X_train = X_train.reshape(60000, 28 * 28)\n",
        "X_test = X_test.reshape(X_test.shape[0], 28 * 28)\n",
        "\n",
        "X_train_bw = X_train_bw.reshape(60000, 28 * 28)\n",
        "X_test_bw = X_test_bw.reshape(X_test_bw.shape[0], 28 * 28)\n",
        "\n",
        "X_train.shape\n",
        "X_train_bw.shape"
      ]
    },
    {
      "cell_type": "code",
      "execution_count": null,
      "metadata": {
        "id": "rFnSbFkb0S42"
      },
      "outputs": [],
      "source": [
        "from sklearn.metrics import log_loss\n",
        "from matplotlib import pyplot as plt "
      ]
    },
    {
      "cell_type": "code",
      "execution_count": null,
      "metadata": {
        "id": "BVuzCmMg0Vdh"
      },
      "outputs": [],
      "source": [
        "def predict_on_images(X_train, y_train, X_test, y_test, dist_func, klimit):\n",
        "  kVals = np.arange(3, klimit, 2)\n",
        "  accuracies = []\n",
        "  \n",
        "  for k in kVals:\n",
        "    model = KNN(K = k)\n",
        "    model.fit(X_train, y_train)\n",
        "    pred = model.predict(X_test, dist_func)\n",
        "    acc = log_loss(y_test, pred)\n",
        "    accuracies.append(acc)\n",
        "    print(\"K = \" + str(k) + \"; LOGLOSS: \" + str(acc))\n",
        "\n",
        "  plt.plot(kVals, accuracies) \n",
        "  plt.xlabel(\"K Value\") \n",
        "  plt.ylabel(\"LogLoss\")"
      ]
    },
    {
      "cell_type": "code",
      "execution_count": null,
      "metadata": {
        "id": "5R9r8_xyxIdq"
      },
      "outputs": [],
      "source": [
        "train_start = 5000\n",
        "train_limit = 10000\n",
        "test_limit = 100\n",
        "klimit = 20"
      ]
    },
    {
      "cell_type": "code",
      "execution_count": null,
      "metadata": {
        "id": "6kg_wTMiwrgg"
      },
      "outputs": [],
      "source": [
        "def predict_for_all_norms(X_train_local, y_train_local, X_test_local, y_test_local):\n",
        "  predict_on_images(X_train_local[train_start:train_limit], y_train_local[train_start:train_limit], X_test_local[0:test_limit], y_test_local[0:test_limit], abs_dist, klimit)\n",
        "  predict_on_images(X_train_local[train_start:train_limit], y_train_local[train_start:train_limit], X_test_local[0:test_limit], y_test_local[0:test_limit], euc_dist, klimit)"
      ]
    },
    {
      "cell_type": "markdown",
      "metadata": {
        "id": "991Oj0jMZD5-"
      },
      "source": [
        "Предсказываем на тестовой выборке с градациями серого с обеими нормами. K меняется до 20-ти. Норма - сумма модулей показывает себя лучше, чем евклидова."
      ]
    },
    {
      "cell_type": "code",
      "execution_count": null,
      "metadata": {
        "colab": {
          "base_uri": "https://localhost:8080/",
          "height": 601
        },
        "id": "XMcmiwrXsHko",
        "outputId": "2a4ab87e-9bdf-4eee-c8f8-aa550bed3183"
      },
      "outputs": [],
      "source": [
        "predict_for_all_norms(X_train, y_train, X_test, y_test)"
      ]
    },
    {
      "cell_type": "markdown",
      "metadata": {
        "id": "PZM6-RVDZk21"
      },
      "source": [
        "Предсказываем на тестовой выборке с черно белыми картинками с обеими нормами. K меняется до 20-ти. Норма - сумма модулей показывает себя хуже, чем евклидова."
      ]
    },
    {
      "cell_type": "code",
      "execution_count": null,
      "metadata": {
        "colab": {
          "base_uri": "https://localhost:8080/",
          "height": 601
        },
        "id": "EJ8NJh6mtxtr",
        "outputId": "03e4c6bf-b038-4156-e7c0-c447de3c6559"
      },
      "outputs": [],
      "source": [
        "predict_for_all_norms(X_train_bw, y_train_bw, X_test_bw, y_test_bw)"
      ]
    },
    {
      "cell_type": "code",
      "execution_count": null,
      "metadata": {
        "id": "yKQcMTi06zCA"
      },
      "outputs": [],
      "source": [
        "import random"
      ]
    },
    {
      "cell_type": "markdown",
      "metadata": {
        "id": "v2Q_4LC8ZnyS"
      },
      "source": [
        "Функции зашумления пикселя для градаций серого и черного-белого изображения"
      ]
    },
    {
      "cell_type": "code",
      "execution_count": null,
      "metadata": {
        "id": "-6K-yfwl6zCA"
      },
      "outputs": [],
      "source": [
        "def grey_noise(pixel):\n",
        "    res = random.randint(0, 255)\n",
        "    while res == pixel:\n",
        "        res = random.randint(0, 255)\n",
        "    return res\n",
        "\n",
        "\n",
        "def bw_noise(pixel):\n",
        "    if pixel == 0:\n",
        "        return 1\n",
        "    else:\n",
        "        return 0"
      ]
    },
    {
      "cell_type": "markdown",
      "metadata": {
        "id": "LN-0hMCXZyOf"
      },
      "source": [
        "Шумим либо всю картинку, либо частично. Область частичного зашумления - круг со случайным радиусом и центром. Шумим пиксель, если случайное значение меньше отсечки."
      ]
    },
    {
      "cell_type": "code",
      "execution_count": null,
      "metadata": {
        "id": "8_TFTiil6zCA"
      },
      "outputs": [],
      "source": [
        "def noise_image(image, probability, func):\n",
        "    for x in range(image.shape[0]):\n",
        "      if random.random() < probability:\n",
        "        image[x] = func(image[x])\n",
        "\n",
        "\n",
        "def noise_image_area(image, center, radius, probability, func):\n",
        "    x_start = 0\n",
        "    y_start = 0\n",
        "    x_finish = 28\n",
        "    y_finish = 28\n",
        "    \n",
        "    if center[0] - radius > 0:\n",
        "        x_start = center[0] - radius\n",
        "    if center[1] - radius > 0:\n",
        "        y_start = center[1] - radius\n",
        "    if center[0] + radius < 28:\n",
        "        x_finish = center[0] + radius\n",
        "    if center[1] + radius < 28:\n",
        "        y_finish = center[1] + radius\n",
        "\n",
        "    for x in range(x_start, x_finish):\n",
        "        for y in range(y_start, y_finish):\n",
        "            if random.random() < probability:\n",
        "                image[x * 28 + y] = func(x * 28 + y)\n",
        "\n",
        "\n",
        "def noise_images(images, prob, noise_func):\n",
        "  for i in range(0, images.shape[0]):\n",
        "    noise_image(images[i], prob, noise_func)\n",
        "\n",
        "\n",
        "def noise_images_area(images, prob, noise_func):\n",
        "  for i in range(0, images.shape[0]):\n",
        "    noise_image_area(images[i], (random.randint(0, 27), random.randint(0, 27)), random.randint(2, 7), prob, noise_func)\n",
        "\n",
        "  \n",
        "def show_images(images):\n",
        "  images = images.copy().reshape(len(images), 28, 28)\n",
        "  from matplotlib import pyplot\n",
        "  for i in range(min(9, len(images))):\n",
        "    pyplot.subplot(330 + 1 + i)\n",
        "    pyplot.imshow(images[i], cmap=pyplot.get_cmap('gray'))\n",
        "  pyplot.show()"
      ]
    },
    {
      "cell_type": "code",
      "execution_count": null,
      "metadata": {
        "id": "AVZava66v7_0"
      },
      "outputs": [],
      "source": [
        "X_train_orig = X_train.copy()\n",
        "X_test_orig = X_test.copy()\n",
        "\n",
        "X_train_bw_orig = X_train_bw.copy()\n",
        "X_test_bw_orig = X_test_bw.copy()"
      ]
    },
    {
      "cell_type": "code",
      "execution_count": null,
      "metadata": {
        "id": "op5zcLiz6zCB"
      },
      "outputs": [],
      "source": [
        "# noise grey images\n",
        "noise_images(X_train, 0.3, grey_noise)\n",
        "noise_images(X_test, 0.3, grey_noise)"
      ]
    },
    {
      "cell_type": "code",
      "execution_count": null,
      "metadata": {
        "id": "u609bip-v5E-"
      },
      "outputs": [],
      "source": [
        "# noise bw images\n",
        "noise_images(X_train_bw, 0.3, bw_noise)\n",
        "noise_images(X_test_bw, 0.3, bw_noise)"
      ]
    },
    {
      "cell_type": "markdown",
      "metadata": {
        "id": "AdhJ4-f4aePS"
      },
      "source": [
        "Примеры полностью зашумленных изображений для градаций серого и черно-белых."
      ]
    },
    {
      "cell_type": "code",
      "execution_count": null,
      "metadata": {
        "colab": {
          "base_uri": "https://localhost:8080/",
          "height": 268
        },
        "id": "DleTeO57w5lv",
        "outputId": "17b3e238-9af4-4e18-c887-ae7c9998d0b3"
      },
      "outputs": [],
      "source": [
        "show_images(X_train)"
      ]
    },
    {
      "cell_type": "code",
      "execution_count": null,
      "metadata": {
        "colab": {
          "base_uri": "https://localhost:8080/",
          "height": 268
        },
        "id": "V6eIt-KCw973",
        "outputId": "c98b6523-05a6-4d1d-e023-a7cc8665c1ea"
      },
      "outputs": [],
      "source": [
        "show_images(X_train_bw)"
      ]
    },
    {
      "cell_type": "markdown",
      "metadata": {
        "id": "iXvHxAGUa67r"
      },
      "source": [
        "Предсказываем на тестовой выборке с полностью зашумленными картинками с градациями серого с обеими нормами. K меняется до 20-ти. Норма - сумма модулей так же показывает себя лучше, чем евклидова. Точность предсказания заметно ниже, чем у не зашумленных."
      ]
    },
    {
      "cell_type": "code",
      "execution_count": null,
      "metadata": {
        "colab": {
          "base_uri": "https://localhost:8080/",
          "height": 602
        },
        "id": "Gyodap_f6zCB",
        "outputId": "32bf6b3e-2346-417c-c5e9-38819d60d791"
      },
      "outputs": [],
      "source": [
        "predict_for_all_norms(X_train, y_train, X_test, y_test)"
      ]
    },
    {
      "cell_type": "markdown",
      "metadata": {
        "id": "LqUbpc09bGXX"
      },
      "source": [
        "Предсказываем на тестовой выборке с полностью зашумленными черно-белыми картинками с обеими нормами. K меняется до 20-ти. Норма - сумма модулей так же показывает себя хуже, чем евклидова. Точность предсказания заметно ниже, чем у не зашумленных."
      ]
    },
    {
      "cell_type": "code",
      "execution_count": null,
      "metadata": {
        "colab": {
          "base_uri": "https://localhost:8080/",
          "height": 601
        },
        "id": "EzK5W-V2dXpO",
        "outputId": "0ba7774a-dbd7-447c-f2df-4605c3d4f68d"
      },
      "outputs": [],
      "source": [
        "predict_for_all_norms(X_train_bw, y_train_bw, X_test_bw, y_test_bw)"
      ]
    },
    {
      "cell_type": "code",
      "execution_count": null,
      "metadata": {
        "id": "KrALioEEdQCV"
      },
      "outputs": [],
      "source": [
        "X_train = X_train_orig.copy()\n",
        "X_test = X_test_orig.copy()\n",
        "\n",
        "X_train_bw = X_train_bw_orig.copy()\n",
        "X_test_bw = X_test_bw_orig.copy()"
      ]
    },
    {
      "cell_type": "code",
      "execution_count": null,
      "metadata": {
        "id": "8j8P1w9GdfBM"
      },
      "outputs": [],
      "source": [
        "# noise grey images\n",
        "noise_images_area(X_train, 0.3, grey_noise)\n",
        "noise_images_area(X_test, 0.3, grey_noise)"
      ]
    },
    {
      "cell_type": "code",
      "execution_count": null,
      "metadata": {
        "id": "ZBcvz429dnbD"
      },
      "outputs": [],
      "source": [
        "# noise bw images\n",
        "noise_images_area(X_train_bw, 0.3, bw_noise)\n",
        "noise_images_area(X_test_bw, 0.3, bw_noise)"
      ]
    },
    {
      "cell_type": "markdown",
      "metadata": {
        "id": "Apb-y2FZbofT"
      },
      "source": [
        "Примеры неравномерно зашумленных изображений для градаций серого и черно-белых."
      ]
    },
    {
      "cell_type": "code",
      "execution_count": null,
      "metadata": {
        "colab": {
          "base_uri": "https://localhost:8080/",
          "height": 268
        },
        "id": "P_wQpzUkduw6",
        "outputId": "8e909d36-3e0e-4ac0-eda3-72698abe72e1"
      },
      "outputs": [],
      "source": [
        "show_images(X_train)"
      ]
    },
    {
      "cell_type": "code",
      "execution_count": null,
      "metadata": {
        "colab": {
          "base_uri": "https://localhost:8080/",
          "height": 268
        },
        "id": "samY-RPudvHT",
        "outputId": "8749edab-358e-4319-d030-a6c04c44e9da"
      },
      "outputs": [],
      "source": [
        "show_images(X_train_bw)"
      ]
    },
    {
      "cell_type": "markdown",
      "metadata": {
        "id": "hklNdFPKbnTW"
      },
      "source": [
        "Предсказываем на тестовой выборке с неравномерно зашумленными картинками с градациями серого с обеими нормами. K меняется до 20-ти. Норма - сумма модулей так же показывает себя лучше, чем евклидова. Точность предсказания заметно ниже, чем у не зашумленных и сравнимо с полностью зашумленными."
      ]
    },
    {
      "cell_type": "code",
      "execution_count": null,
      "metadata": {
        "colab": {
          "base_uri": "https://localhost:8080/",
          "height": 601
        },
        "id": "jsnJkOxud_Fr",
        "outputId": "882577ec-f4bd-4f2a-9845-c2a69219ef41"
      },
      "outputs": [],
      "source": [
        "predict_for_all_norms(X_train, y_train, X_test, y_test)"
      ]
    },
    {
      "cell_type": "markdown",
      "metadata": {
        "id": "ORNBh1txb949"
      },
      "source": [
        "Предсказываем на тестовой выборке с неравномерно зашумленными черно-белыми картинками с обеими нормами. K меняется до 20-ти. Норма - сумма модулей так же показывает себя хуже, чем евклидова. Точность предсказания несколько ниже, чем у не зашумленных и лучше с полностью зашумленными."
      ]
    },
    {
      "cell_type": "code",
      "execution_count": null,
      "metadata": {
        "colab": {
          "base_uri": "https://localhost:8080/",
          "height": 601
        },
        "id": "UAYOyo9oeAkw",
        "outputId": "c848e553-3c7f-47a1-c7ed-a6802e3230ce"
      },
      "outputs": [],
      "source": [
        "predict_for_all_norms(X_train_bw, y_train_bw, X_test_bw, y_test_bw)"
      ]
    },
    {
      "cell_type": "markdown",
      "metadata": {
        "id": "Zb4mqTLeQSUr"
      },
      "source": [
        "Odin"
      ]
    },
    {
      "cell_type": "code",
      "execution_count": null,
      "metadata": {
        "colab": {
          "base_uri": "https://localhost:8080/"
        },
        "id": "VpF4WvbqIF0z",
        "outputId": "07fdb8ab-1999-4a59-f868-046783ac4ac2"
      },
      "outputs": [],
      "source": [
        "X_train_orig.shape"
      ]
    },
    {
      "cell_type": "code",
      "execution_count": null,
      "metadata": {
        "id": "FUZupzi1QWC9"
      },
      "outputs": [],
      "source": [
        "def odin(images, distf, outcasts, limit=4, num_occurences=1):\n",
        "  candidates = []\n",
        "  \n",
        "  for img in images:\n",
        "    tmp_list = images.copy()\n",
        "    tmp_list.remove(img)\n",
        "    tmp_list.sort(key=lambda img1: distf(np.array(img), np.array(img1)))\n",
        "    candidates.append(tmp_list[:limit])\n",
        "    \n",
        "    merged_candidates = []\n",
        "    for img_list in candidates:\n",
        "      for img in img_list:\n",
        "        merged_candidates.append(img)\n",
        "    \n",
        "  result = 0\n",
        "  for img in images:\n",
        "    if merged_candidates.count(img) <= num_occurences:\n",
        "      outcasts.append(img)\n",
        "      result += 1\n",
        "    \n",
        "  return result"
      ]
    },
    {
      "cell_type": "markdown",
      "metadata": {
        "id": "LgG5y0gHXZ5L"
      },
      "source": [
        "Сколько выбросов в выборке:"
      ]
    },
    {
      "cell_type": "code",
      "execution_count": null,
      "metadata": {
        "id": "ZNQBrRLPc8wV"
      },
      "outputs": [],
      "source": [
        "X_train_noised = X_train_orig.copy()"
      ]
    },
    {
      "cell_type": "code",
      "execution_count": null,
      "metadata": {
        "id": "4BRmjTjMdK97"
      },
      "outputs": [],
      "source": [
        "noise_images(X_train_noised, 0.3, grey_noise)"
      ]
    },
    {
      "cell_type": "code",
      "execution_count": null,
      "metadata": {
        "id": "QxOj0CknQAOj"
      },
      "outputs": [],
      "source": [
        "test_set = X_train_orig[1000:2000].tolist().copy()"
      ]
    },
    {
      "cell_type": "code",
      "execution_count": null,
      "metadata": {
        "colab": {
          "base_uri": "https://localhost:8080/"
        },
        "id": "rp7u6e9AUgRL",
        "outputId": "c52f5e6c-9001-4384-e2ff-01d0a7a21462"
      },
      "outputs": [],
      "source": [
        "outcasts = []\n",
        "odin(test_set, euc_dist, outcasts, 100, 10)"
      ]
    },
    {
      "cell_type": "markdown",
      "metadata": {
        "id": "J7Dyn6cIXf-P"
      },
      "source": [
        "Как эти выбросы выглядят:"
      ]
    },
    {
      "cell_type": "code",
      "execution_count": null,
      "metadata": {
        "colab": {
          "base_uri": "https://localhost:8080/",
          "height": 191
        },
        "id": "lMvkGuOAQDR7",
        "outputId": "9879f195-de96-494d-eca5-9c37fba84b52"
      },
      "outputs": [],
      "source": [
        "show_images(np.array(outcasts))"
      ]
    },
    {
      "cell_type": "markdown",
      "metadata": {
        "id": "5DJTmdnFXten"
      },
      "source": [
        "Выброс - черный квадрат"
      ]
    },
    {
      "cell_type": "code",
      "execution_count": null,
      "metadata": {
        "id": "Q9B3ekSgUgeL"
      },
      "outputs": [],
      "source": [
        "test_set.append([255] * 784)"
      ]
    },
    {
      "cell_type": "code",
      "execution_count": null,
      "metadata": {
        "colab": {
          "base_uri": "https://localhost:8080/"
        },
        "id": "1DNctcDMU528",
        "outputId": "39586c9e-3292-4934-8e22-4189648e0805"
      },
      "outputs": [],
      "source": [
        "outcasts = []\n",
        "odin(test_set, euc_dist, outcasts, 100, 10)"
      ]
    },
    {
      "cell_type": "code",
      "execution_count": null,
      "metadata": {
        "colab": {
          "base_uri": "https://localhost:8080/",
          "height": 191
        },
        "id": "zTWAxMjfVmqG",
        "outputId": "efea76ee-8f60-4ba3-ca9a-c7cdf3e7e5eb"
      },
      "outputs": [],
      "source": [
        "show_images(np.array(outcasts))"
      ]
    },
    {
      "cell_type": "markdown",
      "metadata": {
        "id": "QQ421cYabZ0e"
      },
      "source": [
        "Увеличим порог срабатывания:"
      ]
    },
    {
      "cell_type": "code",
      "execution_count": null,
      "metadata": {
        "colab": {
          "base_uri": "https://localhost:8080/"
        },
        "id": "l4cF5g2CbWcs",
        "outputId": "aa474b32-8414-4286-d85e-af762df94623"
      },
      "outputs": [],
      "source": [
        "outcasts = []\n",
        "odin(test_set, euc_dist, outcasts, 100, 20)"
      ]
    },
    {
      "cell_type": "code",
      "execution_count": null,
      "metadata": {
        "colab": {
          "base_uri": "https://localhost:8080/",
          "height": 268
        },
        "id": "NB9Lum7Vbs8N",
        "outputId": "f821cdaf-4b9a-46e3-c05f-ae3c27c32b75"
      },
      "outputs": [],
      "source": [
        "show_images(np.array(outcasts))"
      ]
    },
    {
      "cell_type": "markdown",
      "metadata": {
        "id": "zI8dNnX4YYBz"
      },
      "source": [
        "Выбросы - зашумленные изображения."
      ]
    },
    {
      "cell_type": "code",
      "execution_count": null,
      "metadata": {
        "id": "EyOq8dtfWyyo"
      },
      "outputs": [],
      "source": [
        "test_set.extend(X_train_noised[1000:1050].tolist())"
      ]
    },
    {
      "cell_type": "code",
      "execution_count": null,
      "metadata": {
        "colab": {
          "base_uri": "https://localhost:8080/"
        },
        "id": "vRnWdrVOYXWX",
        "outputId": "d9c9414f-d119-4731-ad13-af2372033879"
      },
      "outputs": [],
      "source": [
        "outcasts = []\n",
        "odin(test_set, euc_dist, outcasts, 100, 20)"
      ]
    }
  ],
  "metadata": {
    "colab": {
      "provenance": []
    },
    "kernelspec": {
      "display_name": "Python 3.9.13 64-bit (microsoft store)",
      "language": "python",
      "name": "python3"
    },
    "language_info": {
      "codemirror_mode": {
        "name": "ipython",
        "version": 3
      },
      "file_extension": ".py",
      "mimetype": "text/x-python",
      "name": "python",
      "nbconvert_exporter": "python",
      "pygments_lexer": "ipython3",
      "version": "3.9.13"
    },
    "vscode": {
      "interpreter": {
        "hash": "97e5078213819e0972490c34bb51c0691090174e06a5f50748383c443c04f591"
      }
    }
  },
  "nbformat": 4,
  "nbformat_minor": 0
}
