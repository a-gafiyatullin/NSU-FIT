{
  "nbformat": 4,
  "nbformat_minor": 2,
  "metadata": {
    "colab": {
      "name": "HW1.ipynb",
      "provenance": [],
      "collapsed_sections": []
    },
    "kernelspec": {
      "name": "python3",
      "display_name": "Python 3"
    },
    "language_info": {
      "name": "python"
    }
  },
  "cells": [
    {
      "cell_type": "code",
      "execution_count": null,
      "source": [
        "# 1. Проверить является ли число простым.\r\n",
        "num = int(input())\r\n",
        "divisors = 0\r\n",
        "if num == 0:\r\n",
        "  print(\"Не простое\")\r\n",
        "else:\r\n",
        "  for i in range(1, num):\r\n",
        "    if num % i == 0:\r\n",
        "      divisors += 1\r\n",
        "  if divisors > 1:\r\n",
        "    print(\"Не простое\")\r\n",
        "  else:\r\n",
        "    print(\"Простое\")"
      ],
      "outputs": [],
      "metadata": {
        "id": "4nc61IW39aqD"
      }
    },
    {
      "cell_type": "code",
      "execution_count": null,
      "source": [
        "# 2. Проверить является ли строка палиндромом.\r\n",
        "import math\r\n",
        "\r\n",
        "str = input()\r\n",
        "first_half = str[:int(math.floor(len(str) / 2))]\r\n",
        "reversed_second_half = (str[int(math.ceil(len(str) / 2)):])[::-1]\r\n",
        "print(first_half == reversed_second_half)"
      ],
      "outputs": [],
      "metadata": {
        "id": "BAIppTg-9g_k"
      }
    },
    {
      "cell_type": "code",
      "execution_count": null,
      "source": [
        "# 3. Написать функцию, которая возвращает словарь (dict)\r\n",
        "# со статистикой по символам найденым в строке.\r\n",
        "def stat(str):\r\n",
        "  freqs = {}\r\n",
        "  for i in str:\r\n",
        "    if i not in freqs:\r\n",
        "      freqs[i] = 1\r\n",
        "    else:\r\n",
        "      freqs[i] += 1\r\n",
        "  return freqs\r\n",
        "str = input()\r\n",
        "print(stat(str))"
      ],
      "outputs": [],
      "metadata": {
        "id": "xivHOcdeAt-O",
        "colab": {
          "base_uri": "https://localhost:8080/"
        },
        "outputId": "2001f8f2-23c2-49fd-a617-5406a6326a3a"
      }
    },
    {
      "cell_type": "code",
      "execution_count": null,
      "source": [
        "# 4. Написать функцию, которая возвращает второе\r\n",
        "# наибольшее число в списке (list).\r\n",
        "def second_greatest(arr):\r\n",
        "  if len(arr) < 2:\r\n",
        "    print(\"Нет такого числа\")\r\n",
        "  else:\r\n",
        "    first = arr[0]\r\n",
        "    second = arr[1]\r\n",
        "    for i in arr:\r\n",
        "      if i > first:\r\n",
        "        second = first\r\n",
        "        first = i\r\n",
        "    return second\r\n",
        "\r\n",
        "arr = input().split()\r\n",
        "print(second_greatest(arr))"
      ],
      "outputs": [],
      "metadata": {
        "id": "QioPRU2rC41S"
      }
    },
    {
      "cell_type": "code",
      "execution_count": null,
      "source": [
        "# 5. Написать функцию, которая возвращает среднюю длину слов в строке\r\n",
        "# “Какая сегодня погода? Сегодня очень хороший день, пойду напьюсь)\"\r\n",
        "import functools\r\n",
        "\r\n",
        "def mean_len():\r\n",
        "  list_word = \"Какая сегодня погода? Сегодня очень хороший день, пойду напьюсь)\".split()\r\n",
        "  print(functools.reduce(lambda s, x: s + len(x), list_word, 0) / len(list_word))\r\n",
        "\r\n",
        "mean_len()"
      ],
      "outputs": [],
      "metadata": {
        "id": "UzTXEPpGGwSO",
        "colab": {
          "base_uri": "https://localhost:8080/"
        },
        "outputId": "11a4e06c-f50b-46ed-cf58-ced96523a927"
      }
    },
    {
      "cell_type": "code",
      "execution_count": null,
      "source": [
        "# 6. Написать функцию, которая возвращает перечень не уникальных символов\r\n",
        "# в строке\r\n",
        "str = input()\r\n",
        "stat_dict = stat(str)\r\n",
        "\r\n",
        "non_unique = filter(lambda x: True if stat_dict[x] != 1 else False, stat_dict.keys())\r\n",
        "print(list(non_unique))"
      ],
      "outputs": [],
      "metadata": {
        "id": "Rfh3OALVI9Gp"
      }
    },
    {
      "cell_type": "code",
      "execution_count": null,
      "source": [
        "# 7. Переместить все нули в списке\r\n",
        "# [1, 7, 0, 0, 8, 0, 10, 12, 0, 4] в конец списка\r\n",
        "l = [1, 7, 0, 0, 8, 0, 10, 12, 0, 4]\r\n",
        "print(list(filter(lambda x: x != 0, l))\r\n",
        "      + list(filter(lambda x: x == 0, l)))"
      ],
      "outputs": [],
      "metadata": {
        "id": "735PMrJDpUAb"
      }
    },
    {
      "cell_type": "code",
      "execution_count": null,
      "source": [
        "# 8. Проверить что списки [6, 5, 4, 4], [1, 1, 1, 3, 3, 4, 3, 2, 4, 2],\r\n",
        "# [1, 1, 2, 3, 7] является монотонными.\r\n",
        "def check_if_monotone(l):\r\n",
        "  check_next = False\r\n",
        "  for i in range(len(l) - 1):\r\n",
        "    if l[i] > l[i + 1]:\r\n",
        "      check_next = True\r\n",
        "      break\r\n",
        "  if not check_next:\r\n",
        "    return True\r\n",
        "  for i in range(len(l) - 1):\r\n",
        "    if l[i] < l[i + 1]:\r\n",
        "      return False\r\n",
        "  return True\r\n",
        "\r\n",
        "print(check_if_monotone([6, 5, 4, 4]))\r\n",
        "print(check_if_monotone([1, 1, 1, 3, 3, 4, 3, 2, 4, 2]))\r\n",
        "print(check_if_monotone([1, 1, 2, 3, 7]))    "
      ],
      "outputs": [],
      "metadata": {
        "id": "FylQ9yNKuyzI"
      }
    },
    {
      "cell_type": "code",
      "execution_count": null,
      "source": [
        "# 9. Заполнить None в списке [1, None, 2, 3, None, None, 5, None],\r\n",
        "# предыдущими не None значениями из списка. Это можно сделать в одну строку.\r\n",
        "print(functools.reduce(lambda s, x: s + list([x]) if x is not None else s + list([s[-1]]), [1, None, 2, 3, None, None, 5, None], []))"
      ],
      "outputs": [],
      "metadata": {
        "id": "u3KaHp64zpe_"
      }
    },
    {
      "cell_type": "code",
      "execution_count": null,
      "source": [
        "# 10. Написать функцию, которая возвращает общие слова встречающиеся в первой\r\n",
        "# и второй строке, и слова уникальные для каждой из двух строк.\r\n",
        "str1 = input().split()\r\n",
        "str2 = input().split()\r\n",
        "set1 = set(str1)\r\n",
        "set2 = set(str2)\r\n",
        "print(set1 & set2)\r\n",
        "print(set1 ^ set2)"
      ],
      "outputs": [],
      "metadata": {
        "id": "BqCm2RIq8tyK"
      }
    }
  ]
}