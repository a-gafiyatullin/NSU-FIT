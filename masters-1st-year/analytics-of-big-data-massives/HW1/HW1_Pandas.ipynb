{
  "nbformat": 4,
  "nbformat_minor": 0,
  "metadata": {
    "colab": {
      "name": "HW1-Pandas.ipynb",
      "provenance": []
    },
    "kernelspec": {
      "name": "python3",
      "display_name": "Python 3"
    },
    "language_info": {
      "name": "python"
    }
  },
  "cells": [
    {
      "cell_type": "code",
      "metadata": {
        "id": "GkKIxiMSeIcL"
      },
      "source": [
        "import pandas as pd"
      ],
      "execution_count": 86,
      "outputs": []
    },
    {
      "cell_type": "code",
      "metadata": {
        "colab": {
          "base_uri": "https://localhost:8080/"
        },
        "id": "sH4UFDI2ezFT",
        "outputId": "19312256-d76e-47f2-db78-5f3538be8e01"
      },
      "source": [
        "# 1. Сделать заглавной первую букву, каждого элемента pd.Series(['how', 'to', 'kick', 'ass?']).\n",
        "import string\n",
        "pd.Series(['how', 'to', 'kick', 'ass?']).apply(lambda x: x[0].upper() + x[1:])"
      ],
      "execution_count": 87,
      "outputs": [
        {
          "output_type": "execute_result",
          "data": {
            "text/plain": [
              "0     How\n",
              "1      To\n",
              "2    Kick\n",
              "3    Ass?\n",
              "dtype: object"
            ]
          },
          "metadata": {},
          "execution_count": 87
        }
      ]
    },
    {
      "cell_type": "code",
      "metadata": {
        "colab": {
          "base_uri": "https://localhost:8080/"
        },
        "id": "WqSv3DMuhmGu",
        "outputId": "e670298d-7833-4826-fb74-ff2a05338623"
      },
      "source": [
        "# 2. Вычислить Евклидово расстояние между\n",
        "# pd.Series([1, 2, 3, 4, 5, 6, 7, 8, 9, 10]),\n",
        "# pd.Series([10, 9, 8, 7, 6, 5, 4, 3, 2, 1])\n",
        "import math\n",
        "a = pd.Series([1, 2, 3, 4, 5, 6, 7, 8, 9, 10])\n",
        "b = pd.Series([10, 9, 8, 7, 6, 5, 4, 3, 2, 1])\n",
        "c = a - b\n",
        "math.sqrt((c * c).agg('sum'))"
      ],
      "execution_count": 88,
      "outputs": [
        {
          "output_type": "execute_result",
          "data": {
            "text/plain": [
              "18.16590212458495"
            ]
          },
          "metadata": {},
          "execution_count": 88
        }
      ]
    },
    {
      "cell_type": "code",
      "metadata": {
        "colab": {
          "base_uri": "https://localhost:8080/",
          "height": 206
        },
        "id": "ceSpy2zHjkYm",
        "outputId": "ec6423ed-4a72-4b9d-9994-c56d06423721"
      },
      "source": [
        "# 3. Сделать one-hot encodings для датафрейма\n",
        "# pd.DataFrame(np.arange(25).reshape(5,-1), columns=list('abcde'))\n",
        "import numpy as np\n",
        "pd.DataFrame(np.arange(25).reshape(5,-1), columns=list('abcde')).applymap(lambda x: ([0] * x) + [1] + ([0] * (24 - x)))"
      ],
      "execution_count": 89,
      "outputs": [
        {
          "output_type": "execute_result",
          "data": {
            "text/html": [
              "<div>\n",
              "<style scoped>\n",
              "    .dataframe tbody tr th:only-of-type {\n",
              "        vertical-align: middle;\n",
              "    }\n",
              "\n",
              "    .dataframe tbody tr th {\n",
              "        vertical-align: top;\n",
              "    }\n",
              "\n",
              "    .dataframe thead th {\n",
              "        text-align: right;\n",
              "    }\n",
              "</style>\n",
              "<table border=\"1\" class=\"dataframe\">\n",
              "  <thead>\n",
              "    <tr style=\"text-align: right;\">\n",
              "      <th></th>\n",
              "      <th>a</th>\n",
              "      <th>b</th>\n",
              "      <th>c</th>\n",
              "      <th>d</th>\n",
              "      <th>e</th>\n",
              "    </tr>\n",
              "  </thead>\n",
              "  <tbody>\n",
              "    <tr>\n",
              "      <th>0</th>\n",
              "      <td>[1, 0, 0, 0, 0, 0, 0, 0, 0, 0, 0, 0, 0, 0, 0, ...</td>\n",
              "      <td>[0, 1, 0, 0, 0, 0, 0, 0, 0, 0, 0, 0, 0, 0, 0, ...</td>\n",
              "      <td>[0, 0, 1, 0, 0, 0, 0, 0, 0, 0, 0, 0, 0, 0, 0, ...</td>\n",
              "      <td>[0, 0, 0, 1, 0, 0, 0, 0, 0, 0, 0, 0, 0, 0, 0, ...</td>\n",
              "      <td>[0, 0, 0, 0, 1, 0, 0, 0, 0, 0, 0, 0, 0, 0, 0, ...</td>\n",
              "    </tr>\n",
              "    <tr>\n",
              "      <th>1</th>\n",
              "      <td>[0, 0, 0, 0, 0, 1, 0, 0, 0, 0, 0, 0, 0, 0, 0, ...</td>\n",
              "      <td>[0, 0, 0, 0, 0, 0, 1, 0, 0, 0, 0, 0, 0, 0, 0, ...</td>\n",
              "      <td>[0, 0, 0, 0, 0, 0, 0, 1, 0, 0, 0, 0, 0, 0, 0, ...</td>\n",
              "      <td>[0, 0, 0, 0, 0, 0, 0, 0, 1, 0, 0, 0, 0, 0, 0, ...</td>\n",
              "      <td>[0, 0, 0, 0, 0, 0, 0, 0, 0, 1, 0, 0, 0, 0, 0, ...</td>\n",
              "    </tr>\n",
              "    <tr>\n",
              "      <th>2</th>\n",
              "      <td>[0, 0, 0, 0, 0, 0, 0, 0, 0, 0, 1, 0, 0, 0, 0, ...</td>\n",
              "      <td>[0, 0, 0, 0, 0, 0, 0, 0, 0, 0, 0, 1, 0, 0, 0, ...</td>\n",
              "      <td>[0, 0, 0, 0, 0, 0, 0, 0, 0, 0, 0, 0, 1, 0, 0, ...</td>\n",
              "      <td>[0, 0, 0, 0, 0, 0, 0, 0, 0, 0, 0, 0, 0, 1, 0, ...</td>\n",
              "      <td>[0, 0, 0, 0, 0, 0, 0, 0, 0, 0, 0, 0, 0, 0, 1, ...</td>\n",
              "    </tr>\n",
              "    <tr>\n",
              "      <th>3</th>\n",
              "      <td>[0, 0, 0, 0, 0, 0, 0, 0, 0, 0, 0, 0, 0, 0, 0, ...</td>\n",
              "      <td>[0, 0, 0, 0, 0, 0, 0, 0, 0, 0, 0, 0, 0, 0, 0, ...</td>\n",
              "      <td>[0, 0, 0, 0, 0, 0, 0, 0, 0, 0, 0, 0, 0, 0, 0, ...</td>\n",
              "      <td>[0, 0, 0, 0, 0, 0, 0, 0, 0, 0, 0, 0, 0, 0, 0, ...</td>\n",
              "      <td>[0, 0, 0, 0, 0, 0, 0, 0, 0, 0, 0, 0, 0, 0, 0, ...</td>\n",
              "    </tr>\n",
              "    <tr>\n",
              "      <th>4</th>\n",
              "      <td>[0, 0, 0, 0, 0, 0, 0, 0, 0, 0, 0, 0, 0, 0, 0, ...</td>\n",
              "      <td>[0, 0, 0, 0, 0, 0, 0, 0, 0, 0, 0, 0, 0, 0, 0, ...</td>\n",
              "      <td>[0, 0, 0, 0, 0, 0, 0, 0, 0, 0, 0, 0, 0, 0, 0, ...</td>\n",
              "      <td>[0, 0, 0, 0, 0, 0, 0, 0, 0, 0, 0, 0, 0, 0, 0, ...</td>\n",
              "      <td>[0, 0, 0, 0, 0, 0, 0, 0, 0, 0, 0, 0, 0, 0, 0, ...</td>\n",
              "    </tr>\n",
              "  </tbody>\n",
              "</table>\n",
              "</div>"
            ],
            "text/plain": [
              "                                                   a  ...                                                  e\n",
              "0  [1, 0, 0, 0, 0, 0, 0, 0, 0, 0, 0, 0, 0, 0, 0, ...  ...  [0, 0, 0, 0, 1, 0, 0, 0, 0, 0, 0, 0, 0, 0, 0, ...\n",
              "1  [0, 0, 0, 0, 0, 1, 0, 0, 0, 0, 0, 0, 0, 0, 0, ...  ...  [0, 0, 0, 0, 0, 0, 0, 0, 0, 1, 0, 0, 0, 0, 0, ...\n",
              "2  [0, 0, 0, 0, 0, 0, 0, 0, 0, 0, 1, 0, 0, 0, 0, ...  ...  [0, 0, 0, 0, 0, 0, 0, 0, 0, 0, 0, 0, 0, 0, 1, ...\n",
              "3  [0, 0, 0, 0, 0, 0, 0, 0, 0, 0, 0, 0, 0, 0, 0, ...  ...  [0, 0, 0, 0, 0, 0, 0, 0, 0, 0, 0, 0, 0, 0, 0, ...\n",
              "4  [0, 0, 0, 0, 0, 0, 0, 0, 0, 0, 0, 0, 0, 0, 0, ...  ...  [0, 0, 0, 0, 0, 0, 0, 0, 0, 0, 0, 0, 0, 0, 0, ...\n",
              "\n",
              "[5 rows x 5 columns]"
            ]
          },
          "metadata": {},
          "execution_count": 89
        }
      ]
    },
    {
      "cell_type": "code",
      "metadata": {
        "colab": {
          "base_uri": "https://localhost:8080/"
        },
        "id": "d2oG6VQCoTNe",
        "outputId": "eca56ade-794c-436c-b892-22e563d6422e"
      },
      "source": [
        "# 4. Вернуть название колонки с максимальным значением pd.DataFrame(np.random.randint(1,100, 40).reshape(10, -1)).\n",
        "a = pd.DataFrame(np.random.randint(1,100, 40).reshape(10, -1))\n",
        "print(a)\n",
        "a.max().idxmax()"
      ],
      "execution_count": 93,
      "outputs": [
        {
          "output_type": "stream",
          "name": "stdout",
          "text": [
            "    0   1   2   3\n",
            "0  67  11  43  47\n",
            "1  93  80  55  44\n",
            "2  56  64  82  69\n",
            "3  96  54  87  61\n",
            "4  80  85  77  49\n",
            "5   4  49  51  72\n",
            "6  78  82  15   4\n",
            "7  46  56  25  55\n",
            "8  52  31   1  88\n",
            "9  33  72  98  83\n"
          ]
        },
        {
          "output_type": "execute_result",
          "data": {
            "text/plain": [
              "2"
            ]
          },
          "metadata": {},
          "execution_count": 93
        }
      ]
    },
    {
      "cell_type": "code",
      "metadata": {
        "colab": {
          "base_uri": "https://localhost:8080/",
          "height": 466
        },
        "id": "nueyR1tWp9pJ",
        "outputId": "09fd0553-86d2-4bf0-d037-3f1d40881ed3"
      },
      "source": [
        "# 5. Нормализировать все колонки в датафрейме pd.DataFrame(np.random.randint(1,100, 80).reshape(8, -1).\n",
        "import math\n",
        "a = pd.DataFrame(np.random.randint(1,100, 80).reshape(8, -1))\n",
        "print(a)\n",
        "a.div((a.mul(a, axis = 1)).agg('sum', axis = 0).apply(lambda x: math.sqrt(x)), axis=1)"
      ],
      "execution_count": 94,
      "outputs": [
        {
          "output_type": "stream",
          "name": "stdout",
          "text": [
            "    0   1   2   3   4   5   6   7   8   9\n",
            "0  57  39  88  24  55  14  84  46  40  88\n",
            "1  31  95  77   1  46  85  35  29  96  78\n",
            "2  20  12  82  49  68   2  74  92  81  42\n",
            "3  51   4  18  67  33  99   3  67   9  80\n",
            "4  55   7  63  56   7  86  88   6  96  31\n",
            "5  92  77  15  19  81  85  81  97  21  14\n",
            "6   7  30  99  25  75   5  58  24  46  19\n",
            "7  67  40  84  65  51  91  55  63  18  43\n"
          ]
        },
        {
          "output_type": "execute_result",
          "data": {
            "text/html": [
              "<div>\n",
              "<style scoped>\n",
              "    .dataframe tbody tr th:only-of-type {\n",
              "        vertical-align: middle;\n",
              "    }\n",
              "\n",
              "    .dataframe tbody tr th {\n",
              "        vertical-align: top;\n",
              "    }\n",
              "\n",
              "    .dataframe thead th {\n",
              "        text-align: right;\n",
              "    }\n",
              "</style>\n",
              "<table border=\"1\" class=\"dataframe\">\n",
              "  <thead>\n",
              "    <tr style=\"text-align: right;\">\n",
              "      <th></th>\n",
              "      <th>0</th>\n",
              "      <th>1</th>\n",
              "      <th>2</th>\n",
              "      <th>3</th>\n",
              "      <th>4</th>\n",
              "      <th>5</th>\n",
              "      <th>6</th>\n",
              "      <th>7</th>\n",
              "      <th>8</th>\n",
              "      <th>9</th>\n",
              "    </tr>\n",
              "  </thead>\n",
              "  <tbody>\n",
              "    <tr>\n",
              "      <th>0</th>\n",
              "      <td>0.373917</td>\n",
              "      <td>0.281576</td>\n",
              "      <td>0.430566</td>\n",
              "      <td>0.190849</td>\n",
              "      <td>0.343147</td>\n",
              "      <td>0.069867</td>\n",
              "      <td>0.452503</td>\n",
              "      <td>0.266025</td>\n",
              "      <td>0.232672</td>\n",
              "      <td>0.552607</td>\n",
              "    </tr>\n",
              "    <tr>\n",
              "      <th>1</th>\n",
              "      <td>0.203358</td>\n",
              "      <td>0.685889</td>\n",
              "      <td>0.376746</td>\n",
              "      <td>0.007952</td>\n",
              "      <td>0.286996</td>\n",
              "      <td>0.424190</td>\n",
              "      <td>0.188543</td>\n",
              "      <td>0.167711</td>\n",
              "      <td>0.558413</td>\n",
              "      <td>0.489811</td>\n",
              "    </tr>\n",
              "    <tr>\n",
              "      <th>2</th>\n",
              "      <td>0.131199</td>\n",
              "      <td>0.086639</td>\n",
              "      <td>0.401210</td>\n",
              "      <td>0.389650</td>\n",
              "      <td>0.424255</td>\n",
              "      <td>0.009981</td>\n",
              "      <td>0.398634</td>\n",
              "      <td>0.532050</td>\n",
              "      <td>0.471161</td>\n",
              "      <td>0.263744</td>\n",
              "    </tr>\n",
              "    <tr>\n",
              "      <th>3</th>\n",
              "      <td>0.334558</td>\n",
              "      <td>0.028880</td>\n",
              "      <td>0.088070</td>\n",
              "      <td>0.532787</td>\n",
              "      <td>0.205888</td>\n",
              "      <td>0.494056</td>\n",
              "      <td>0.016161</td>\n",
              "      <td>0.387471</td>\n",
              "      <td>0.052351</td>\n",
              "      <td>0.502370</td>\n",
              "    </tr>\n",
              "    <tr>\n",
              "      <th>4</th>\n",
              "      <td>0.360797</td>\n",
              "      <td>0.050539</td>\n",
              "      <td>0.308246</td>\n",
              "      <td>0.445315</td>\n",
              "      <td>0.043673</td>\n",
              "      <td>0.429180</td>\n",
              "      <td>0.474051</td>\n",
              "      <td>0.034699</td>\n",
              "      <td>0.558413</td>\n",
              "      <td>0.194668</td>\n",
              "    </tr>\n",
              "    <tr>\n",
              "      <th>5</th>\n",
              "      <td>0.603516</td>\n",
              "      <td>0.555931</td>\n",
              "      <td>0.073392</td>\n",
              "      <td>0.151089</td>\n",
              "      <td>0.505362</td>\n",
              "      <td>0.424190</td>\n",
              "      <td>0.436342</td>\n",
              "      <td>0.560965</td>\n",
              "      <td>0.122153</td>\n",
              "      <td>0.087915</td>\n",
              "    </tr>\n",
              "    <tr>\n",
              "      <th>6</th>\n",
              "      <td>0.045920</td>\n",
              "      <td>0.216597</td>\n",
              "      <td>0.484387</td>\n",
              "      <td>0.198801</td>\n",
              "      <td>0.467928</td>\n",
              "      <td>0.024952</td>\n",
              "      <td>0.312443</td>\n",
              "      <td>0.138796</td>\n",
              "      <td>0.267573</td>\n",
              "      <td>0.119313</td>\n",
              "    </tr>\n",
              "    <tr>\n",
              "      <th>7</th>\n",
              "      <td>0.439517</td>\n",
              "      <td>0.288795</td>\n",
              "      <td>0.410995</td>\n",
              "      <td>0.516883</td>\n",
              "      <td>0.318191</td>\n",
              "      <td>0.454132</td>\n",
              "      <td>0.296282</td>\n",
              "      <td>0.364338</td>\n",
              "      <td>0.104702</td>\n",
              "      <td>0.270024</td>\n",
              "    </tr>\n",
              "  </tbody>\n",
              "</table>\n",
              "</div>"
            ],
            "text/plain": [
              "          0         1         2  ...         7         8         9\n",
              "0  0.373917  0.281576  0.430566  ...  0.266025  0.232672  0.552607\n",
              "1  0.203358  0.685889  0.376746  ...  0.167711  0.558413  0.489811\n",
              "2  0.131199  0.086639  0.401210  ...  0.532050  0.471161  0.263744\n",
              "3  0.334558  0.028880  0.088070  ...  0.387471  0.052351  0.502370\n",
              "4  0.360797  0.050539  0.308246  ...  0.034699  0.558413  0.194668\n",
              "5  0.603516  0.555931  0.073392  ...  0.560965  0.122153  0.087915\n",
              "6  0.045920  0.216597  0.484387  ...  0.138796  0.267573  0.119313\n",
              "7  0.439517  0.288795  0.410995  ...  0.364338  0.104702  0.270024\n",
              "\n",
              "[8 rows x 10 columns]"
            ]
          },
          "metadata": {},
          "execution_count": 94
        }
      ]
    }
  ]
}